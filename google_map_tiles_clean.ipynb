{
 "cells": [
  {
   "cell_type": "markdown",
   "metadata": {},
   "source": [
    "Script to download 2D tiles from Google Maps API"
   ]
  },
  {
   "cell_type": "code",
   "execution_count": null,
   "metadata": {},
   "outputs": [],
   "source": [
    "# request session token\n",
    "import requests\n",
    "\n",
    "# Get your own API key here:\n",
    "# https://developers.google.com/maps/documentation/tile/get-api-key\n",
    "\n",
    "API_KEY = \"\"\n",
    "url = \"https://tile.googleapis.com/v1/createSession?key=\"+API_KEY\n",
    "myobj = {\"mapType\": \"satellite\",\n",
    "         \"imageFormat\" : \"png\",\n",
    "  \"language\": \"en-US\",\n",
    "  \"region\": \"EU\"}\n",
    "\n",
    "response = requests.post(url, json = myobj)\n",
    "\n",
    "print(response.text)"
   ]
  },
  {
   "cell_type": "code",
   "execution_count": null,
   "metadata": {},
   "outputs": [],
   "source": [
    "zoom_level = 18 # zoom_levels 0 - 18, in some cases up to 21\n",
    "lat_deg = -81\n",
    "lon_deg = 179"
   ]
  },
  {
   "cell_type": "code",
   "execution_count": null,
   "metadata": {},
   "outputs": [],
   "source": [
    "# lat/lon to tile numbers\n",
    "import math\n",
    "def deg2num(lat_deg, lon_deg, zoom):\n",
    "  lat_rad = math.radians(lat_deg)\n",
    "  n = 1 << zoom\n",
    "  xtile = int((lon_deg + 180.0) / 360.0 * n)\n",
    "  ytile = int((1.0 - math.asinh(math.tan(lat_rad)) / math.pi) / 2.0 * n)\n",
    "  return xtile, ytile\n",
    "\n",
    "xtile, ytile = deg2num(lat_deg, lon_deg, zoom_level)\n",
    "print(xtile)\n",
    "print(ytile)"
   ]
  },
  {
   "cell_type": "code",
   "execution_count": null,
   "metadata": {},
   "outputs": [],
   "source": [
    "\n",
    "import requests\n",
    "\n",
    "SESSION_TOKEN = response.text[16:108]\n",
    "TILES_BASE_URL = \"https://tile.googleapis.com/v1/2dtiles\"\n",
    "\n",
    "url = TILES_BASE_URL+\"/\"+str(zoom_level)+\"/\"+str(xtile)+\"/\"+str(ytile)+\"?session=\"+SESSION_TOKEN+\"&key=\"+API_KEY\n",
    "print(url)\n",
    "response = requests.get(url)\n",
    "#result = json.load(response)\n",
    "print(response.status_code)"
   ]
  },
  {
   "cell_type": "code",
   "execution_count": null,
   "metadata": {},
   "outputs": [],
   "source": [
    "from PIL import Image\n",
    "from io import BytesIO\n",
    "\n",
    "i = Image.open(BytesIO(response.content))\n",
    "i.save(\"test3.png\") "
   ]
  }
 ],
 "metadata": {
  "kernelspec": {
   "display_name": "Python 3",
   "language": "python",
   "name": "python3"
  },
  "language_info": {
   "codemirror_mode": {
    "name": "ipython",
    "version": 3
   },
   "file_extension": ".py",
   "mimetype": "text/x-python",
   "name": "python",
   "nbconvert_exporter": "python",
   "pygments_lexer": "ipython3",
   "version": "3.10.12"
  }
 },
 "nbformat": 4,
 "nbformat_minor": 2
}
